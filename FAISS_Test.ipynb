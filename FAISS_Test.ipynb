{
 "cells": [
  {
   "cell_type": "code",
   "execution_count": 11,
   "id": "3a1e8b9a-c5d2-4f1f-b06f-9a8af5cc6ba2",
   "metadata": {},
   "outputs": [],
   "source": [
    "from datasets import load_dataset\n",
    "import faiss\n",
    "from sentence_transformers import SentenceTransformer"
   ]
  },
  {
   "cell_type": "code",
   "execution_count": 4,
   "id": "83713e77-86f6-433e-95fa-79b5bb1b1734",
   "metadata": {},
   "outputs": [
    {
     "data": {
      "application/vnd.jupyter.widget-view+json": {
       "model_id": "3dc70df789a8430c8e6efad8675214c9",
       "version_major": 2,
       "version_minor": 0
      },
      "text/plain": [
       "Downloading readme:   0%|          | 0.00/28.0 [00:00<?, ?B/s]"
      ]
     },
     "metadata": {},
     "output_type": "display_data"
    },
    {
     "data": {
      "application/vnd.jupyter.widget-view+json": {
       "model_id": "6fd206f30b084c1993b524b9e2e4538b",
       "version_major": 2,
       "version_minor": 0
      },
      "text/plain": [
       "Downloading data:   0%|          | 0.00/3.69M [00:00<?, ?B/s]"
      ]
     },
     "metadata": {},
     "output_type": "display_data"
    },
    {
     "data": {
      "application/vnd.jupyter.widget-view+json": {
       "model_id": "ba0fb1fb80d24566a3699c76f0561787",
       "version_major": 2,
       "version_minor": 0
      },
      "text/plain": [
       "Generating train split: 0 examples [00:00, ? examples/s]"
      ]
     },
     "metadata": {},
     "output_type": "display_data"
    }
   ],
   "source": [
    "dataset = load_dataset(\"adarshxs/gita\")"
   ]
  },
  {
   "cell_type": "code",
   "execution_count": 9,
   "id": "53c3e7f3-b115-4413-af47-cc399c47a8cc",
   "metadata": {},
   "outputs": [
    {
     "data": {
      "text/plain": [
       "'O my Lord, Śrī Kṛṣṇa, son of Vasudeva, O all-pervading Personality of Godhead, I offer my respectful obeisances unto You. I meditate upon Lord Śrī Kṛṣṇa because He is the Absolute Truth and the primeval cause of all causes of the creation, sustenance and destruction of the manifested universes. He is directly and indirectly conscious of all manifestations, and He is independent because there is no other cause beyond Him. It is He only who first imparted the Vedic knowledge unto the heart of Brahmājī, the original living being. By Him even the great sages and demigods are placed into illusion, as one is bewildered by the illusory representations of water seen in fire, or land seen on water. Only because of Him do the material universes, temporarily manifested by the reactions of the three modes of nature, appear factual, although they are unreal. I therefore meditate upon Him, Lord Śrī Kṛṣṇa, who is eternally existent in the transcendental abode, which is forever free from the illusory representations of the material world. I meditate upon Him, for He is the Absolute Truth.'"
      ]
     },
     "execution_count": 9,
     "metadata": {},
     "output_type": "execute_result"
    }
   ],
   "source": [
    "dataset['train']['text'][0]"
   ]
  },
  {
   "cell_type": "code",
   "execution_count": 12,
   "id": "d34ada7d-8b8c-4b49-a47f-d7906d1a6fbe",
   "metadata": {},
   "outputs": [
    {
     "data": {
      "application/vnd.jupyter.widget-view+json": {
       "model_id": "3191ca64a6a94eb8b4e10e95ca4640c4",
       "version_major": 2,
       "version_minor": 0
      },
      "text/plain": [
       "modules.json:   0%|          | 0.00/349 [00:00<?, ?B/s]"
      ]
     },
     "metadata": {},
     "output_type": "display_data"
    },
    {
     "name": "stderr",
     "output_type": "stream",
     "text": [
      "C:\\Users\\horiz\\Applications\\Anaconda\\envs\\Gemini\\lib\\site-packages\\huggingface_hub\\file_download.py:148: UserWarning: `huggingface_hub` cache-system uses symlinks by default to efficiently store duplicated files but your machine does not support them in C:\\Users\\horiz\\.cache\\huggingface\\hub\\models--sentence-transformers--all-MiniLM-L6-v2. Caching files will still work but in a degraded version that might require more space on your disk. This warning can be disabled by setting the `HF_HUB_DISABLE_SYMLINKS_WARNING` environment variable. For more details, see https://huggingface.co/docs/huggingface_hub/how-to-cache#limitations.\n",
      "To support symlinks on Windows, you either need to activate Developer Mode or to run Python as an administrator. In order to see activate developer mode, see this article: https://docs.microsoft.com/en-us/windows/apps/get-started/enable-your-device-for-development\n",
      "  warnings.warn(message)\n"
     ]
    },
    {
     "data": {
      "application/vnd.jupyter.widget-view+json": {
       "model_id": "b063cd04271e47f68a10132b7b3d9c54",
       "version_major": 2,
       "version_minor": 0
      },
      "text/plain": [
       "config_sentence_transformers.json:   0%|          | 0.00/116 [00:00<?, ?B/s]"
      ]
     },
     "metadata": {},
     "output_type": "display_data"
    },
    {
     "data": {
      "application/vnd.jupyter.widget-view+json": {
       "model_id": "a0bf47c6958846c1a804496dcd08f42d",
       "version_major": 2,
       "version_minor": 0
      },
      "text/plain": [
       "README.md:   0%|          | 0.00/10.7k [00:00<?, ?B/s]"
      ]
     },
     "metadata": {},
     "output_type": "display_data"
    },
    {
     "data": {
      "application/vnd.jupyter.widget-view+json": {
       "model_id": "33edda88a3a84353acbfaf1559b6886a",
       "version_major": 2,
       "version_minor": 0
      },
      "text/plain": [
       "sentence_bert_config.json:   0%|          | 0.00/53.0 [00:00<?, ?B/s]"
      ]
     },
     "metadata": {},
     "output_type": "display_data"
    },
    {
     "data": {
      "application/vnd.jupyter.widget-view+json": {
       "model_id": "86b85668984144019a6dc0078f09a7de",
       "version_major": 2,
       "version_minor": 0
      },
      "text/plain": [
       "config.json:   0%|          | 0.00/612 [00:00<?, ?B/s]"
      ]
     },
     "metadata": {},
     "output_type": "display_data"
    },
    {
     "data": {
      "application/vnd.jupyter.widget-view+json": {
       "model_id": "93d87d9019e94105aa0fe48e923f290a",
       "version_major": 2,
       "version_minor": 0
      },
      "text/plain": [
       "model.safetensors:   0%|          | 0.00/90.9M [00:00<?, ?B/s]"
      ]
     },
     "metadata": {},
     "output_type": "display_data"
    },
    {
     "data": {
      "application/vnd.jupyter.widget-view+json": {
       "model_id": "de5d5a107505445594626fa54261e54c",
       "version_major": 2,
       "version_minor": 0
      },
      "text/plain": [
       "tokenizer_config.json:   0%|          | 0.00/350 [00:00<?, ?B/s]"
      ]
     },
     "metadata": {},
     "output_type": "display_data"
    },
    {
     "data": {
      "application/vnd.jupyter.widget-view+json": {
       "model_id": "3eddda6409584e8a8928075c597de3ca",
       "version_major": 2,
       "version_minor": 0
      },
      "text/plain": [
       "vocab.txt:   0%|          | 0.00/232k [00:00<?, ?B/s]"
      ]
     },
     "metadata": {},
     "output_type": "display_data"
    },
    {
     "data": {
      "application/vnd.jupyter.widget-view+json": {
       "model_id": "9d32c70314204fe3a53ae728655944e7",
       "version_major": 2,
       "version_minor": 0
      },
      "text/plain": [
       "tokenizer.json:   0%|          | 0.00/466k [00:00<?, ?B/s]"
      ]
     },
     "metadata": {},
     "output_type": "display_data"
    },
    {
     "data": {
      "application/vnd.jupyter.widget-view+json": {
       "model_id": "cc39fb9e74a141c28cddd457d14c0757",
       "version_major": 2,
       "version_minor": 0
      },
      "text/plain": [
       "special_tokens_map.json:   0%|          | 0.00/112 [00:00<?, ?B/s]"
      ]
     },
     "metadata": {},
     "output_type": "display_data"
    },
    {
     "data": {
      "application/vnd.jupyter.widget-view+json": {
       "model_id": "8ef90a8928344cb5ba2cce8fad4c655e",
       "version_major": 2,
       "version_minor": 0
      },
      "text/plain": [
       "1_Pooling/config.json:   0%|          | 0.00/190 [00:00<?, ?B/s]"
      ]
     },
     "metadata": {},
     "output_type": "display_data"
    }
   ],
   "source": [
    "model = SentenceTransformer('sentence-transformers/all-MiniLM-L6-v2')"
   ]
  },
  {
   "cell_type": "code",
   "execution_count": 15,
   "id": "224210b0-c205-47bd-829f-fffbc8e23515",
   "metadata": {},
   "outputs": [
    {
     "name": "stdout",
     "output_type": "stream",
     "text": [
      "[[-3.9735004e-02  1.2982641e-02  2.2414429e-02 ... -1.7646169e-02\n",
      "  -5.7020314e-02 -2.5912100e-02]\n",
      " [ 1.2365053e-04  3.0665621e-02 -1.1265005e-01 ... -2.1336919e-02\n",
      "   3.1279914e-02 -4.3622091e-02]\n",
      " [ 9.3990136e-03  2.0557167e-02 -7.7100918e-02 ... -5.1432323e-02\n",
      "   4.7622759e-02 -5.7807140e-02]\n",
      " ...\n",
      " [-2.1758061e-02  1.6557005e-01 -4.0958162e-02 ...  1.7428428e-02\n",
      "  -3.5644544e-04 -4.4229858e-02]\n",
      " [ 6.3948311e-02  7.1901493e-02  1.0755932e-02 ...  1.9942475e-02\n",
      "   4.0541425e-02 -1.7572654e-02]\n",
      " [-1.1883850e-01  4.8298579e-02 -2.5480816e-03 ...  1.2640950e-01\n",
      "   4.6549048e-02 -1.5717292e-02]]\n"
     ]
    }
   ],
   "source": [
    "embeddings = model.encode(dataset['train'].to_list())\n",
    "print(embeddings)"
   ]
  },
  {
   "cell_type": "code",
   "execution_count": 17,
   "id": "673a08ce-d627-4351-8bd3-7b1e62493231",
   "metadata": {},
   "outputs": [],
   "source": [
    "import numpy as np"
   ]
  },
  {
   "cell_type": "code",
   "execution_count": 18,
   "id": "b08f7d3a-95df-40fb-ae7d-208e0bc8d57a",
   "metadata": {},
   "outputs": [],
   "source": [
    "path = './Data/embeddings/gita_embeddings.npy'\n",
    "np.save(path,embeddings)"
   ]
  },
  {
   "cell_type": "code",
   "execution_count": 19,
   "id": "399db9c3-6fba-43f1-ad36-996f7db0b7d5",
   "metadata": {},
   "outputs": [],
   "source": [
    "d = len(embeddings[0])\n",
    "index = faiss.IndexFlatL2(d) "
   ]
  },
  {
   "cell_type": "code",
   "execution_count": 20,
   "id": "67c9411b-9b15-46e3-998f-fae2872866c5",
   "metadata": {},
   "outputs": [],
   "source": [
    "index.add(embeddings)"
   ]
  },
  {
   "cell_type": "code",
   "execution_count": 30,
   "id": "69e5ce59-048b-4923-a8aa-83fb00fb92d5",
   "metadata": {},
   "outputs": [],
   "source": [
    "query = \"Bhagvan kon h?\"\n",
    "k = 3\n",
    "\n",
    "xq = model.encode([query])\n",
    "D, I = index.search(xq, k)     # actual search"
   ]
  },
  {
   "cell_type": "code",
   "execution_count": 31,
   "id": "105425ba-fd7c-4f34-a5df-f07b7c044bb3",
   "metadata": {},
   "outputs": [
    {
     "data": {
      "text/plain": [
       "array([[0.98742485, 1.0255609 , 1.0599957 ]], dtype=float32)"
      ]
     },
     "execution_count": 31,
     "metadata": {},
     "output_type": "execute_result"
    }
   ],
   "source": [
    "D"
   ]
  },
  {
   "cell_type": "code",
   "execution_count": 32,
   "id": "b74a0b7c-d4a1-4ed0-b2a0-054c5eabd236",
   "metadata": {},
   "outputs": [
    {
     "data": {
      "text/plain": [
       "array([[12728,  3077,  6084]], dtype=int64)"
      ]
     },
     "execution_count": 32,
     "metadata": {},
     "output_type": "execute_result"
    }
   ],
   "source": [
    "I"
   ]
  },
  {
   "cell_type": "code",
   "execution_count": 33,
   "id": "b1717d30-8533-4ca5-a9a4-a1b69eff8004",
   "metadata": {},
   "outputs": [
    {
     "name": "stdout",
     "output_type": "stream",
     "text": [
      "Assisted by the descendants of Bhoja, Vṛṣṇi, Andhaka, Madhu, Śūrasena, Daśārha, Kuru, Sṛñjaya and Pāṇḍu, Lord Kṛṣṇa performed various activities. By His pleasing smiles, His affectionate behavior, His instructions and His uncommon pastimes like raising Govardhana Hill, the Lord, appearing in His transcendental body, pleased all of human society.\n",
      "On the joyous occasion of that marriage, O King, Queen Rukmiṇī, Lord Balarāma, Lord Kṛṣṇa and several of the Lord’s sons, headed by Sāmba and Pradyumna, went to the city of Bhojakaṭa.\n",
      "That very Śrīmad-Bhāgavatam I shall recite before you because you are the most sincere devotee of Lord Kṛṣṇa. One who gives full attention and respect to hearing Śrīmad-Bhāgavatam achieves unflinching faith in the Supreme Lord, the giver of salvation.\n"
     ]
    }
   ],
   "source": [
    "for ind in I[0]:\n",
    "    print(dataset['train']['text'][ind])"
   ]
  },
  {
   "cell_type": "code",
   "execution_count": null,
   "id": "6fc3f7f3-0ed3-498c-9319-25cf380d88cc",
   "metadata": {},
   "outputs": [],
   "source": []
  }
 ],
 "metadata": {
  "kernelspec": {
   "display_name": "Python 3 (ipykernel)",
   "language": "python",
   "name": "python3"
  },
  "language_info": {
   "codemirror_mode": {
    "name": "ipython",
    "version": 3
   },
   "file_extension": ".py",
   "mimetype": "text/x-python",
   "name": "python",
   "nbconvert_exporter": "python",
   "pygments_lexer": "ipython3",
   "version": "3.9.19"
  }
 },
 "nbformat": 4,
 "nbformat_minor": 5
}
