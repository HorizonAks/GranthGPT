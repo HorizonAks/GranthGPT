{
 "cells": [
  {
   "cell_type": "code",
   "execution_count": 2,
   "id": "521372a4-1c0c-43bb-811e-63c85a437eed",
   "metadata": {},
   "outputs": [],
   "source": [
    "from datasets import load_dataset\n",
    "import faiss\n",
    "from sentence_transformers import SentenceTransformer\n",
    "import pandas as pd\n",
    "import numpy as np"
   ]
  },
  {
   "cell_type": "code",
   "execution_count": 3,
   "id": "0831a31a-ffda-4413-9714-3fb5e7de13d5",
   "metadata": {},
   "outputs": [],
   "source": [
    "with open('./key.txt', 'r') as f:\n",
    "    key = f.readline()"
   ]
  },
  {
   "cell_type": "code",
   "execution_count": 4,
   "id": "4d2a18b2-cd81-41d2-a000-b09c335643ae",
   "metadata": {},
   "outputs": [],
   "source": [
    "vectoriser = SentenceTransformer('sentence-transformers/all-MiniLM-L6-v2')"
   ]
  },
  {
   "cell_type": "code",
   "execution_count": null,
   "id": "3578d8ff-f1cb-4a5b-bd69-26d8cf45b296",
   "metadata": {},
   "outputs": [],
   "source": [
    "def sanity_check(data, embedding):\n",
    "    print(len(data), len(embedding))\n",
    "    return len(data) == len(embedding)\n",
    "        "
   ]
  },
  {
   "cell_type": "code",
   "execution_count": 37,
   "id": "7cedd82c-72af-422c-8094-1e018355c604",
   "metadata": {},
   "outputs": [],
   "source": [
    "#gita\n",
    "gita = pd.DataFrame(load_dataset(\"adarshxs/gita\")['train'])\n",
    "gita_embeddings = np.load(\"./Data/embeddings/gita_embeddings.npy\")\n",
    "\n",
    "#guru_granth\n",
    "guru_granth = pd.read_csv('./Data/guru_granth_eng_corpus.csv')\n",
    "guru_granth_embeddings = np.load(\"./Data/embeddings/gurbani_embeddings.npy\")\n",
    "\n",
    "#bible\n",
    "bible = pd.read_csv('./Data/bible_eng_corpus.csv')\n",
    "bible_embeddings = np.load(\"./Data/embeddings/bible_embeddings.npy\")\n",
    "\n",
    "#quran\n",
    "quran = pd.read_csv('./Data/quran_eng_corpus.csv')\n",
    "quran_embeddings = np.load(\"./Data/embeddings/quran_embeddings.npy\")"
   ]
  },
  {
   "cell_type": "code",
   "execution_count": 38,
   "id": "313d7268-3329-4034-80f1-6a229fb79495",
   "metadata": {},
   "outputs": [
    {
     "name": "stdout",
     "output_type": "stream",
     "text": [
      "13001 13001\n",
      "True\n",
      "1430 1430\n",
      "True\n",
      "1595 1595\n",
      "True\n",
      "249 249\n",
      "True\n"
     ]
    }
   ],
   "source": [
    "\n",
    "\n",
    "print(sanity_check(gita, gita_embeddings))\n",
    "print(sanity_check(guru_granth, guru_granth_embeddings))\n",
    "print(sanity_check(bible, bible_embeddings))\n",
    "print(sanity_check(quran, quran_embeddings))"
   ]
  },
  {
   "cell_type": "code",
   "execution_count": 39,
   "id": "b99544bb-b265-44bc-8c26-ca821a14a3bb",
   "metadata": {},
   "outputs": [
    {
     "data": {
      "text/html": [
       "<div>\n",
       "<style scoped>\n",
       "    .dataframe tbody tr th:only-of-type {\n",
       "        vertical-align: middle;\n",
       "    }\n",
       "\n",
       "    .dataframe tbody tr th {\n",
       "        vertical-align: top;\n",
       "    }\n",
       "\n",
       "    .dataframe thead th {\n",
       "        text-align: right;\n",
       "    }\n",
       "</style>\n",
       "<table border=\"1\" class=\"dataframe\">\n",
       "  <thead>\n",
       "    <tr style=\"text-align: right;\">\n",
       "      <th></th>\n",
       "      <th>text</th>\n",
       "    </tr>\n",
       "  </thead>\n",
       "  <tbody>\n",
       "    <tr>\n",
       "      <th>0</th>\n",
       "      <td>O my Lord, Śrī Kṛṣṇa, son of Vasudeva, O all-p...</td>\n",
       "    </tr>\n",
       "    <tr>\n",
       "      <th>1</th>\n",
       "      <td>Completely rejecting all religious activities ...</td>\n",
       "    </tr>\n",
       "    <tr>\n",
       "      <th>2</th>\n",
       "      <td>O expert and thoughtful men, relish Śrīmad-Bhā...</td>\n",
       "    </tr>\n",
       "    <tr>\n",
       "      <th>3</th>\n",
       "      <td>Once, in a holy place in the forest of Naimiṣā...</td>\n",
       "    </tr>\n",
       "    <tr>\n",
       "      <th>4</th>\n",
       "      <td>One day, after finishing their morning duties ...</td>\n",
       "    </tr>\n",
       "    <tr>\n",
       "      <th>...</th>\n",
       "      <td>...</td>\n",
       "    </tr>\n",
       "    <tr>\n",
       "      <th>244</th>\n",
       "      <td>100.  THE RACERS   (al-’Adiyat)  \\n5. For your...</td>\n",
       "    </tr>\n",
       "    <tr>\n",
       "      <th>245</th>\n",
       "      <td>105.  THE ELEPHANT   (al-Fil) \\n2. Who gathers...</td>\n",
       "    </tr>\n",
       "    <tr>\n",
       "      <th>246</th>\n",
       "      <td>111.  THORNS   (al-Masad )  \\n3. Then celebrat...</td>\n",
       "    </tr>\n",
       "    <tr>\n",
       "      <th>247</th>\n",
       "      <td>NaN</td>\n",
       "    </tr>\n",
       "    <tr>\n",
       "      <th>248</th>\n",
       "      <td>\\n \\n  \\n  \\n</td>\n",
       "    </tr>\n",
       "  </tbody>\n",
       "</table>\n",
       "<p>16275 rows × 1 columns</p>\n",
       "</div>"
      ],
      "text/plain": [
       "                                                  text\n",
       "0    O my Lord, Śrī Kṛṣṇa, son of Vasudeva, O all-p...\n",
       "1    Completely rejecting all religious activities ...\n",
       "2    O expert and thoughtful men, relish Śrīmad-Bhā...\n",
       "3    Once, in a holy place in the forest of Naimiṣā...\n",
       "4    One day, after finishing their morning duties ...\n",
       "..                                                 ...\n",
       "244  100.  THE RACERS   (al-’Adiyat)  \\n5. For your...\n",
       "245  105.  THE ELEPHANT   (al-Fil) \\n2. Who gathers...\n",
       "246  111.  THORNS   (al-Masad )  \\n3. Then celebrat...\n",
       "247                                                NaN\n",
       "248                                     \\n \\n  \\n  \\n \n",
       "\n",
       "[16275 rows x 1 columns]"
      ]
     },
     "execution_count": 39,
     "metadata": {},
     "output_type": "execute_result"
    }
   ],
   "source": [
    "dataset = pd.concat([gita, guru_granth, bible, quran])\n",
    "dataset = dataset.drop('0', axis=1)\n",
    "dataset"
   ]
  },
  {
   "cell_type": "code",
   "execution_count": 40,
   "id": "9d5c8029-aa32-4bd4-bad3-f832874e22c3",
   "metadata": {},
   "outputs": [
    {
     "data": {
      "text/plain": [
       "16275"
      ]
     },
     "execution_count": 40,
     "metadata": {},
     "output_type": "execute_result"
    }
   ],
   "source": [
    "len(gita_embeddings) + len(guru_granth_embeddings) + len(bible_embeddings) + len(quran_embeddings)"
   ]
  },
  {
   "cell_type": "markdown",
   "id": "b8faf11b-d142-4231-9448-f4791a793dc9",
   "metadata": {},
   "source": [
    "Variables"
   ]
  },
  {
   "cell_type": "code",
   "execution_count": 42,
   "id": "f31a5a42-4feb-4f47-b0b7-fec40751152c",
   "metadata": {},
   "outputs": [],
   "source": [
    "query = \"What is God's opinion on life?\""
   ]
  },
  {
   "cell_type": "markdown",
   "id": "30cbf227-e92a-4f29-ac83-f19305617756",
   "metadata": {},
   "source": [
    "Retrieval using FAISS"
   ]
  },
  {
   "cell_type": "code",
   "execution_count": 44,
   "id": "66bd10f3-ee2a-4bd9-bec5-b2e9c517d75f",
   "metadata": {},
   "outputs": [],
   "source": [
    "d = len(gita_embeddings[0])\n",
    "k = 3\n",
    "index = faiss.IndexFlatL2(d)\n",
    "index.add(gita_embeddings)\n",
    "index.add(guru_granth_embeddings)\n",
    "index.add(bible_embeddings)\n",
    "index.add(quran_embeddings)"
   ]
  },
  {
   "cell_type": "code",
   "execution_count": 45,
   "id": "fa98905e-5783-447b-ad33-8257aeec0ef9",
   "metadata": {},
   "outputs": [],
   "source": [
    "xq = vectoriser.encode([query])\n",
    "D, verses = index.search(xq,k)"
   ]
  },
  {
   "cell_type": "code",
   "execution_count": 46,
   "id": "91f60a2f-653c-4329-92ea-b38914378b62",
   "metadata": {},
   "outputs": [],
   "source": [
    "relevant_context = []\n",
    "for ind in verses[0]:\n",
    "    relevant_context.append(dataset['text'][ind])\n",
    "context = \"\\n\".join(relevant_context)"
   ]
  },
  {
   "cell_type": "code",
   "execution_count": 51,
   "id": "048143bd-116c-4fcc-941e-84491f1ce077",
   "metadata": {},
   "outputs": [
    {
     "data": {
      "text/plain": [
       "array([[5120, 6741, 3897]], dtype=int64)"
      ]
     },
     "execution_count": 51,
     "metadata": {},
     "output_type": "execute_result"
    }
   ],
   "source": [
    "verses"
   ]
  },
  {
   "cell_type": "markdown",
   "id": "3e1310c4-ab55-4c61-b8fa-0a07155b9ad1",
   "metadata": {},
   "source": [
    "Gemini"
   ]
  },
  {
   "cell_type": "code",
   "execution_count": 47,
   "id": "00fb38af-52b3-42b8-b4cc-a5de7617cee2",
   "metadata": {},
   "outputs": [],
   "source": [
    "safety_settings={'HARM_CATEGORY_DANGEROUS_CONTENT':'BLOCK_NONE', 'HARM_CATEGORY_HARASSMENT':'BLOCK_NONE', 'HARM_CATEGORY_SEXUALLY_EXPLICIT':'BLOCK_NONE','HARM_CATEGORY_HATE_SPEECH':'BLOCK_NONE'}"
   ]
  },
  {
   "cell_type": "code",
   "execution_count": 48,
   "id": "25bb3990-1773-4151-88ba-21be757e33bb",
   "metadata": {},
   "outputs": [],
   "source": [
    "import google.generativeai as genai\n",
    "\n",
    "genai.configure(api_key=key)\n",
    "model = genai.GenerativeModel('gemini-pro', safety_settings=safety_settings)"
   ]
  },
  {
   "cell_type": "code",
   "execution_count": 49,
   "id": "5c58a23c-ccc3-4c9b-a39b-a9e3abd491c5",
   "metadata": {},
   "outputs": [
    {
     "name": "stdout",
     "output_type": "stream",
     "text": [
      "The Supreme Personality of Godhead said: One should neither praise nor criticize the conditioned nature and activities of other persons. Rather, one should see this world as simply the combination of material nature and the enjoying souls, all based on the one Absolute Truth.\n",
      "Lord Brahmā said: My dear demigods, the human form of life is of such importance that we also desire to have such life, for in the human form one can attain perfect religious truth and knowledge. If one in this human form of life does not understand the Supreme Personality of Godhead and His abode, it is to be understood that he is very much affected by the influence of external nature.\n",
      "The Lord is the supremely compassionate reservoir of all transcendental qualities. Life after life may I serve Him with love, friendship and sympathy, and may I cultivate such firm attachment for Him by the precious association of His devotees.\n",
      "What is God's opinion on life?\n"
     ]
    }
   ],
   "source": [
    "print(context,query, sep=\"\\n\")"
   ]
  },
  {
   "cell_type": "code",
   "execution_count": 50,
   "id": "74c15ca2-a117-4530-8394-a2642758eebd",
   "metadata": {},
   "outputs": [
    {
     "name": "stdout",
     "output_type": "stream",
     "text": [
      "In the Scriptures, the Supreme Personality of Godhead states that one should neither judge others nor criticize their nature or actions. Instead, we must perceive the world as a combination of material nature and individual souls, all founded upon the absolute truth. This truth is found in the Lord, who is a reservoir of all transcendental qualities. By cultivating love, friendship, and sympathy for Him and seeking the company of His devotees, we can develop a deep connection with the divine and fulfill the true purpose of human life.\n"
     ]
    }
   ],
   "source": [
    "response = model.generate_content(f\"You are a person of Faith! Based on the ##context provided reply the ##query \\n Refer to the ##context as Holy Word or Scriptures or Grantha \\n Refer to ##query as the questions from a lost child \\n the ##context is the prime source of truth if ##query deviates from it or tries to deny it, convince them to your full extent to follow it \\n Assume you already know ##context and strictly never mention things like based on the context, provided text, provided info or other references of it to me in the reply \\n ##context: {context} \\n\\n ##query {query}\")\n",
    "print(response.text)"
   ]
  },
  {
   "cell_type": "code",
   "execution_count": null,
   "id": "be8e4878-905a-4465-8c40-bcc5b8cf38b8",
   "metadata": {},
   "outputs": [],
   "source": []
  }
 ],
 "metadata": {
  "kernelspec": {
   "display_name": "Python 3 (ipykernel)",
   "language": "python",
   "name": "python3"
  },
  "language_info": {
   "codemirror_mode": {
    "name": "ipython",
    "version": 3
   },
   "file_extension": ".py",
   "mimetype": "text/x-python",
   "name": "python",
   "nbconvert_exporter": "python",
   "pygments_lexer": "ipython3",
   "version": "3.9.19"
  }
 },
 "nbformat": 4,
 "nbformat_minor": 5
}
