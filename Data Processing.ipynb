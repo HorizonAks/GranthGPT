{
 "cells": [
  {
   "cell_type": "code",
   "execution_count": 48,
   "id": "166d7c79-44ec-411a-8942-8dbd5a001a55",
   "metadata": {},
   "outputs": [],
   "source": [
    "from datasets import load_dataset\n",
    "from sentence_transformers import SentenceTransformer\n",
    "import PyPDF2\n",
    "import pandas as pd\n",
    "import numpy as np"
   ]
  },
  {
   "cell_type": "code",
   "execution_count": 46,
   "id": "3587d898-9081-47e5-8340-f10cdeae71a5",
   "metadata": {},
   "outputs": [],
   "source": [
    "model = SentenceTransformer('sentence-transformers/all-MiniLM-L6-v2')"
   ]
  },
  {
   "cell_type": "markdown",
   "id": "a4098a04-db04-4a83-be8d-ab9b0ad76553",
   "metadata": {},
   "source": [
    "Gita"
   ]
  },
  {
   "cell_type": "code",
   "execution_count": null,
   "id": "a65efffb-4848-4f18-80c9-6180f42fd4ab",
   "metadata": {
    "scrolled": true
   },
   "outputs": [],
   "source": [
    "dataset = load_dataset(\"adarshxs/gita\")\n",
    "embeddings = model.encode(dataset['train'].to_list())\n",
    "path = './Data/embeddings/gita_embeddings.npy'\n",
    "np.save(path,embeddings)"
   ]
  },
  {
   "cell_type": "markdown",
   "id": "7d970dea-b6be-46f2-88b9-a63d00e58588",
   "metadata": {},
   "source": [
    "Guru Granth Sahib"
   ]
  },
  {
   "cell_type": "code",
   "execution_count": 81,
   "id": "d5d5e7f1-aafd-40b0-9b85-67d24a39a6f8",
   "metadata": {},
   "outputs": [],
   "source": [
    "pdf_file = open('./Data/pdf/guru_granth_eng.pdf','rb')\n",
    "read_pdf = PyPDF2.PdfReader(pdf_file)\n",
    "number_of_pages = len(read_pdf.pages)\n",
    "page_corpus = []\n",
    "for i in range(number_of_pages):\n",
    "    page = read_pdf.pages[i]\n",
    "    text = page.extract_text()\n",
    "    page_corpus.append(text)"
   ]
  },
  {
   "cell_type": "code",
   "execution_count": 82,
   "id": "8bd19618-2842-4e23-8417-5e699c1b6b3c",
   "metadata": {},
   "outputs": [],
   "source": [
    "guru_granth = pd.DataFrame(page_corpus)\n",
    "guru_granth.to_csv('./Data/guru_granth_eng_corpus.csv', index=False)"
   ]
  },
  {
   "cell_type": "code",
   "execution_count": 78,
   "id": "f37b47b4-0eee-469a-881b-e98b1a0afdfd",
   "metadata": {},
   "outputs": [],
   "source": [
    "guru_granth.columns = ['text']\n",
    "guru_granth = guru_granth.astype({'text':str})"
   ]
  },
  {
   "cell_type": "code",
   "execution_count": 50,
   "id": "90d0b0cb-f5fe-48bc-ab86-4d2c2ad042c5",
   "metadata": {},
   "outputs": [],
   "source": [
    "embeddings = model.encode(guru_granth['text'].to_list())\n",
    "path = './Data/embeddings/gurbani_embeddings.npy'\n",
    "np.save(path,embeddings)"
   ]
  },
  {
   "cell_type": "markdown",
   "id": "b0bfa670-8307-4f91-9a4b-43adc217458c",
   "metadata": {},
   "source": [
    "Bible"
   ]
  },
  {
   "cell_type": "code",
   "execution_count": 79,
   "id": "50d92234-f917-486d-9021-eb4badf651b2",
   "metadata": {},
   "outputs": [],
   "source": [
    "pdf_file = open('./Data/pdf/bible_eng.pdf','rb')\n",
    "read_pdf = PyPDF2.PdfReader(pdf_file)\n",
    "number_of_pages = len(read_pdf.pages)\n",
    "page_corpus = []\n",
    "for i in range(number_of_pages):\n",
    "    page = read_pdf.pages[i]\n",
    "    text = page.extract_text()\n",
    "    page_corpus.append(text)"
   ]
  },
  {
   "cell_type": "code",
   "execution_count": 80,
   "id": "757b1cb4-1f08-4518-9751-4f534be9605a",
   "metadata": {},
   "outputs": [],
   "source": [
    "bible = pd.DataFrame(page_corpus)\n",
    "bible.columns = ['text']\n",
    "bible = bible[7:].reset_index()\n",
    "bible = bible.drop('index', axis=1)\n",
    "bible.to_csv('./Data/bible_eng_corpus.csv', index=False)"
   ]
  },
  {
   "cell_type": "code",
   "execution_count": 63,
   "id": "f7ee2bf7-2882-4d50-bf12-767f13e8dd83",
   "metadata": {},
   "outputs": [],
   "source": [
    "embeddings = model.encode(bible['text'].to_list())\n",
    "path = './Data/embeddings/bible_embeddings.npy'\n",
    "np.save(path,embeddings)"
   ]
  },
  {
   "cell_type": "markdown",
   "id": "e9edade1-17ad-448a-87a1-d1fa7afa3f80",
   "metadata": {},
   "source": [
    "Quran"
   ]
  },
  {
   "cell_type": "code",
   "execution_count": 83,
   "id": "412621b1-eed0-4121-9e44-695938fcf403",
   "metadata": {},
   "outputs": [],
   "source": [
    "pdf_file = open('./Data/pdf/quran_eng.pdf','rb')\n",
    "read_pdf = PyPDF2.PdfReader(pdf_file)\n",
    "number_of_pages = len(read_pdf.pages)\n",
    "page_corpus = []\n",
    "for i in range(number_of_pages):\n",
    "    page = read_pdf.pages[i]\n",
    "    text = page.extract_text()\n",
    "    page_corpus.append(text)"
   ]
  },
  {
   "cell_type": "code",
   "execution_count": 84,
   "id": "3d8346c4-e8ca-4b9c-83de-fd0ba9dae6f7",
   "metadata": {},
   "outputs": [],
   "source": [
    "quran = pd.DataFrame(page_corpus)\n",
    "quran.columns = ['text']\n",
    "quran = quran[5:].reset_index()"
   ]
  },
  {
   "cell_type": "code",
   "execution_count": 85,
   "id": "ad258261-ee31-419a-9561-80d87a6e2a26",
   "metadata": {},
   "outputs": [],
   "source": [
    "quran = quran.drop('index', axis=1)\n",
    "quran.to_csv('./Data/quran_eng_corpus.csv', index=False)"
   ]
  },
  {
   "cell_type": "code",
   "execution_count": 89,
   "id": "859565d6-949d-47a7-8149-e3bde05317d8",
   "metadata": {},
   "outputs": [],
   "source": [
    "embeddings = model.encode(quran['text'].to_list())\n",
    "path = './Data/embeddings/quran_embeddings.npy'\n",
    "np.save(path,embeddings)"
   ]
  },
  {
   "cell_type": "code",
   "execution_count": 90,
   "id": "9d647096-5b8a-4069-ac0c-ad568aa85201",
   "metadata": {},
   "outputs": [
    {
     "data": {
      "text/plain": [
       "249"
      ]
     },
     "execution_count": 90,
     "metadata": {},
     "output_type": "execute_result"
    }
   ],
   "source": [
    "len(embeddings)"
   ]
  }
 ],
 "metadata": {
  "kernelspec": {
   "display_name": "Python 3 (ipykernel)",
   "language": "python",
   "name": "python3"
  },
  "language_info": {
   "codemirror_mode": {
    "name": "ipython",
    "version": 3
   },
   "file_extension": ".py",
   "mimetype": "text/x-python",
   "name": "python",
   "nbconvert_exporter": "python",
   "pygments_lexer": "ipython3",
   "version": "3.9.19"
  }
 },
 "nbformat": 4,
 "nbformat_minor": 5
}
